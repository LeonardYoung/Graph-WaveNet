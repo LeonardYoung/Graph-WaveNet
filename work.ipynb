{
 "cells": [
  {
   "cell_type": "markdown",
   "source": [
    "### 输出原始序列和预测序列"
   ],
   "metadata": {
    "collapsed": false,
    "pycharm": {
     "name": "#%% md\n"
    }
   }
  },
  {
   "cell_type": "code",
   "execution_count": 1,
   "outputs": [
    {
     "name": "stdout",
     "output_type": "stream",
     "text": [
      "start train...\n",
      "Using cpu device\n"
     ]
    }
   ],
   "source": [
    "import util\n",
    "import numpy as np\n",
    "import torch\n",
    "import torch.nn as nn\n",
    "import torch.nn.functional as F\n",
    "import time\n",
    "from utils import earlystopping\n",
    "\n",
    "print('start train...')\n",
    "# torch.cuda.set_device(1)\n",
    "device = \"cuda:1\" if torch.cuda.is_available() else \"cpu\"\n",
    "print(\"Using {} device\".format(device))\n",
    "model_save_path = \"./data/save_models/simpleLSTM/LSTM.pth\"\n",
    "\n",
    "input_size = 24\n",
    "predict_size = 3\n",
    "train_epoch = 150\n",
    "class lstm(nn.Module):\n",
    "    def __init__(self, input_size=24, output_size=9, hidden_size=64,  num_layer=2):\n",
    "        super(lstm, self).__init__()\n",
    "        self.layer1 = nn.LSTM(input_size, hidden_size, num_layer)\n",
    "        self.layer2 = nn.Linear(hidden_size, output_size)\n",
    "        # self.layer3 = nn.Linear(32, output_size)\n",
    "\n",
    "    def forward(self, x):\n",
    "        x, _ = self.layer1(x)\n",
    "        s, b, h = x.size()\n",
    "        x = x.view(s * b, h)  # view函数调整矩阵的形状，类似于reshape\n",
    "        # x = F.relu(x)\n",
    "        x = self.layer2(x)\n",
    "        # x = F.relu(x)\n",
    "        # x = self.layer3(x)\n",
    "        x = x.view(s, b, -1)\n",
    "        return x\n",
    "\n",
    "# 参数设定\n",
    "root_dir = 'data/water/shangban'\n",
    "factor_index = 0\n",
    "site_index = 0\n",
    "input_length = 24\n",
    "output_length = 3\n",
    "\n",
    "\n",
    "\n",
    "site_code = \"abcdefghijklmn\"\n",
    "dataloader = util.load_dataset(root_dir + '/singlesingle/{}{}'.format(factor_index,site_code[site_index]),\n",
    "                               64, 64, 64, False)\n",
    "\n",
    "model = lstm(input_length, output_length).to(device)\n",
    "model = model.double()"
   ],
   "metadata": {
    "collapsed": false,
    "pycharm": {
     "name": "#%%\n"
    }
   }
  },
  {
   "cell_type": "code",
   "execution_count": 33,
   "outputs": [
    {
     "name": "stdout",
     "output_type": "stream",
     "text": [
      "torch.Size([361, 1, 24])\n",
      "torch.Size([361, 1, 3])\n",
      "torch.Size([361, 1, 3])\n"
     ]
    }
   ],
   "source": [
    "model.eval()\n",
    "model.load_state_dict(torch.load(model_save_path,map_location=torch.device('cpu')))\n",
    "scaler = dataloader['scaler']\n",
    "# loss_list = []\n",
    "with torch.no_grad():\n",
    "    X,y = dataloader['test_loader'].get_origin()\n",
    "    X = scaler.transform(X)\n",
    "\n",
    "    X = np.expand_dims(X, axis=1)\n",
    "    y = np.expand_dims(y, axis=1)\n",
    "\n",
    "    X = torch.tensor(X).to(device)\n",
    "    y = torch.tensor(y).to(device)\n",
    "\n",
    "    pred = model(X)\n",
    "    pred_real = scaler.inverse_transform(pred)\n",
    "\n",
    "    print(X.shape)\n",
    "    print(y.shape)\n",
    "    print(pred_real.shape)"
   ],
   "metadata": {
    "collapsed": false,
    "pycharm": {
     "name": "#%% pred_save 预测并保存序列\n"
    }
   }
  },
  {
   "cell_type": "code",
   "execution_count": 34,
   "outputs": [
    {
     "name": "stdout",
     "output_type": "stream",
     "text": [
      "(387,)\n",
      "(387,)\n",
      "(387,)\n",
      "(387,)\n",
      "0,1,2,3,4,5,6,7,8,9,10,11,12,13,14,15,16,17,18,19,20,21,22,23,24,25,26,27,28,29,30,31,32,33,34,35,36,37,38,39,40,41,42,43,44,45,46,47,48,49,50,51,52,53,54,55,56,57,58,59,60,61,62,63,64,65,66,67,68,69,70,71,72,73,74,75,76,77,78,79,80,81,82,83,84,85,86,87,88,89,90,91,92,93,94,95,96,97,98,99,100,101,102,103,104,105,106,107,108,109,110,111,112,113,114,115,116,117,118,119,120,121,122,123,124,125,126,127,128,129,130,131,132,133,134,135,136,137,138,139,140,141,142,143,144,145,146,147,148,149,150,151,152,153,154,155,156,157,158,159,160,161,162,163,164,165,166,167,168,169,170,171,172,173,174,175,176,177,178,179,180,181,182,183,184,185,186,187,188,189,190,191,192,193,194,195,196,197,198,199,200,201,202,203,204,205,206,207,208,209,210,211,212,213,214,215,216,217,218,219,220,221,222,223,224,225,226,227,228,229,230,231,232,233,234,235,236,237,238,239,240,241,242,243,244,245,246,247,248,249,250,251,252,253,254,255,256,257,258,259,260,261,262,263,264,265,266,267,268,269,270,271,272,273,274,275,276,277,278,279,280,281,282,283,284,285,286,287,288,289,290,291,292,293,294,295,296,297,298,299,300,301,302,303,304,305,306,307,308,309,310,311,312,313,314,315,316,317,318,319,320,321,322,323,324,325,326,327,328,329,330,331,332,333,334,335,336,337,338,339,340,341,342,343,344,345,346,347,348,349,350,351,352,353,354,355,356,357,358,359,360,361,362,363,364,365,366,367,368,369,370,371,372,373,374,375,376,377,378,379,380,381,382,383,384,385,386\n",
      "6.080,5.940,6.010,6.130,6.180,6.210,6.190,6.070,6.090,6.180,6.230,6.280,6.250,6.220,6.200,6.210,6.250,6.230,6.230,6.020,6.330,6.280,6.310,6.210,6.120,5.890,6.210,6.240,6.070,6.070,6.120,5.940,6.200,6.100,6.220,6.170,6.170,5.830,5.990,5.720,6.060,6.100,6.110,5.880,5.970,5.630,5.257,4.946,4.695,4.505,4.376,4.307,4.300,4.353,4.467,4.642,4.878,5.175,5.532,5.951,6.430,6.970,7.571,8.232,8.955,9.719,10.415,11.022,11.541,11.973,12.316,12.571,12.738,12.818,12.809,12.712,12.527,12.254,11.893,11.445,10.908,10.283,9.570,8.769,7.880,7.030,6.830,6.570,6.490,6.540,6.430,6.440,6.310,6.220,5.890,5.910,5.960,5.910,5.940,5.900,5.890,6.010,6.090,5.940,5.960,5.910,5.940,5.950,5.940,5.430,5.960,5.900,5.870,5.940,5.950,5.930,6.030,5.860,5.930,5.930,5.910,5.880,5.920,5.910,5.830,5.830,5.830,5.920,6.040,5.890,5.740,5.690,5.730,5.770,5.680,5.650,7.090,7.580,5.350,5.250,5.340,5.290,5.150,5.180,5.310,5.300,5.280,5.240,5.210,5.400,5.320,5.400,5.320,5.340,5.330,5.400,5.420,5.460,5.420,5.400,5.380,5.350,5.530,5.520,5.400,5.350,5.290,5.270,5.290,5.310,5.210,5.170,5.260,5.200,5.480,5.380,5.150,5.060,5.080,5.130,5.150,5.130,6.870,6.900,6.750,6.930,7.100,7.040,6.770,6.640,6.710,6.840,7.020,7.120,6.870,6.750,6.920,6.880,6.850,6.850,6.710,6.660,6.640,6.820,7.090,7.010,6.860,6.780,6.770,6.880,7.160,6.920,7.010,6.880,6.850,6.890,7.120,6.800,7.360,6.890,6.830,6.960,7.140,6.810,6.920,7.050,7.040,6.930,7.090,7.130,7.310,7.090,6.840,6.810,6.790,6.730,6.660,6.550,6.470,6.520,6.920,6.630,6.580,6.440,6.470,6.540,6.820,6.790,6.620,6.380,6.440,6.520,6.890,6.650,6.610,6.370,6.410,6.490,6.790,6.530,6.880,6.680,6.590,6.530,6.830,6.590,6.790,6.820,6.480,6.600,6.880,6.810,6.790,6.540,6.600,6.570,6.680,6.760,6.740,6.370,6.520,6.560,6.810,6.650,6.770,6.380,6.420,6.500,6.650,6.660,6.680,6.340,6.320,6.540,6.690,6.800,6.640,6.360,6.430,6.610,6.770,6.820,6.800,6.700,6.660,6.620,6.940,6.730,6.740,6.700,6.690,6.600,6.300,6.390,6.260,5.910,5.710,5.630,6.200,5.930,6.060,5.950,6.020,6.040,6.280,6.320,6.370,5.670,5.970,6.090,6.190,6.170,6.310,5.790,5.810,5.940,6.300,6.030,6.140,5.850,5.460,5.650,5.840,5.880,6.040,5.780,5.670,5.560,6.140,5.800,6.050,5.870,5.920,5.840,6.340,5.860,6.020,5.780,5.360,5.710,6.130,5.720,5.950,5.900,5.460,5.380,5.980,5.780,5.920,5.910,5.870,5.680,5.740,5.790,5.650,5.720,5.730,5.520,5.530,5.590,5.667,5.764,5.880,6.014,6.147,6.258,6.345\n",
      "0.000,0.000,0.000,0.000,0.000,0.000,0.000,0.000,0.000,0.000,0.000,0.000,0.000,0.000,0.000,0.000,0.000,0.000,0.000,0.000,0.000,0.000,0.000,0.000,6.247,6.112,6.035,6.135,6.155,6.034,6.008,6.107,6.046,6.161,6.086,6.146,6.110,6.189,6.047,6.095,5.850,5.899,5.911,6.015,5.954,6.074,5.881,5.586,5.249,4.976,4.663,4.456,4.353,4.303,4.278,4.359,4.453,4.608,4.835,5.173,5.623,6.172,6.604,7.089,7.608,8.089,8.451,8.739,9.035,9.277,9.375,9.328,9.215,9.122,9.085,9.076,9.056,9.064,9.098,9.142,9.195,9.249,9.292,9.295,9.195,8.814,7.901,7.434,7.003,6.701,6.796,6.976,7.144,7.184,7.197,7.093,7.075,7.050,6.996,6.949,6.841,6.727,6.679,6.581,6.356,6.207,6.058,5.943,5.884,5.865,5.578,5.786,5.806,5.792,5.849,5.938,5.970,6.021,5.979,6.001,5.925,5.914,5.893,5.960,5.921,5.864,5.833,5.866,5.870,5.972,5.925,5.865,5.821,5.829,5.757,5.665,5.633,6.576,7.258,6.115,6.034,6.024,5.620,5.033,4.838,5.005,5.136,5.357,5.554,5.346,5.152,5.162,5.446,5.529,5.525,5.371,5.341,5.309,5.404,5.498,5.415,5.324,5.421,5.501,5.504,5.459,5.483,5.468,5.423,5.352,5.320,5.272,5.259,5.317,5.311,5.407,5.385,5.314,5.294,5.287,5.237,5.134,5.098,6.071,6.422,6.628,6.936,7.145,6.969,6.645,6.467,6.395,6.398,6.570,6.800,6.876,6.721,6.781,6.873,6.902,6.849,6.844,6.802,6.753,6.847,7.059,6.946,6.868,6.923,6.941,6.891,6.998,6.860,6.972,6.974,6.996,6.994,7.069,6.795,7.195,7.012,7.006,7.073,7.127,6.795,6.851,7.042,7.082,6.963,7.127,7.127,7.290,7.097,7.016,6.940,6.871,6.620,6.603,6.529,6.472,6.425,6.767,6.586,6.549,6.456,6.480,6.483,6.672,6.695,6.611,6.496,6.565,6.582,6.732,6.519,6.552,6.509,6.574,6.545,6.661,6.428,6.682,6.718,6.795,6.716,6.823,6.547,6.631,6.763,6.682,6.698,6.861,6.749,6.757,6.615,6.711,6.631,6.680,6.652,6.692,6.459,6.564,6.610,6.777,6.567,6.666,6.509,6.551,6.549,6.604,6.528,6.540,6.431,6.502,6.588,6.622,6.606,6.587,6.477,6.597,6.667,6.714,6.648,6.722,6.736,6.828,6.806,6.930,6.675,6.645,6.702,6.804,6.747,6.466,6.382,6.248,6.018,5.870,5.760,5.940,5.777,5.901,6.015,6.156,6.170,6.294,6.349,6.350,5.953,6.125,6.158,6.105,5.968,6.139,5.973,6.006,6.035,6.208,5.906,5.977,5.980,5.908,5.839,5.815,5.667,5.742,5.750,5.927,5.868,6.079,5.753,5.865,5.852,6.025,6.038,6.288,5.947,5.950,5.859,5.714,5.756,5.921,5.637,5.760,5.891,5.836,5.674,5.892,5.678,5.680,5.813,6.049,5.953,5.901,5.793,5.634,5.600,5.695,5.649,5.661,5.568,5.587,5.637,5.760,5.938,0.000,0.000\n",
      "0.000,0.000,0.000,0.000,0.000,0.000,0.000,0.000,0.000,0.000,0.000,0.000,0.000,0.000,0.000,0.000,0.000,0.000,0.000,0.000,0.000,0.000,0.000,0.000,6.263,6.109,6.028,6.126,6.134,6.014,5.987,6.094,6.039,6.155,6.068,6.132,6.097,6.190,6.053,6.100,5.830,5.877,5.883,6.007,5.949,6.075,5.869,5.572,5.213,4.917,4.564,4.332,4.211,4.145,4.113,4.191,4.298,4.475,4.734,5.118,5.643,6.264,6.709,7.172,7.646,8.065,8.373,8.619,8.883,9.099,9.181,9.127,9.008,8.910,8.870,8.862,8.850,8.867,8.909,8.960,9.020,9.081,9.131,9.143,9.055,8.688,7.762,7.297,6.853,6.537,6.638,6.847,7.049,7.119,7.162,7.098,7.120,7.139,7.128,7.115,7.035,6.926,6.872,6.743,6.475,6.290,6.100,5.953,5.869,5.840,5.533,5.755,5.772,5.770,5.832,5.925,5.963,6.022,5.985,6.013,5.927,5.917,5.902,5.970,5.928,5.867,5.832,5.874,5.875,5.976,5.927,5.871,5.830,5.841,5.755,5.659,5.626,6.582,7.253,6.163,6.105,6.069,5.642,5.013,4.763,4.914,5.069,5.301,5.526,5.300,5.088,5.113,5.435,5.555,5.522,5.310,5.282,5.287,5.433,5.538,5.428,5.329,5.445,5.521,5.518,5.480,5.511,5.498,5.450,5.372,5.335,5.287,5.275,5.330,5.323,5.415,5.393,5.331,5.318,5.311,5.252,5.136,5.091,6.078,6.436,6.682,7.006,7.205,7.026,6.695,6.505,6.424,6.405,6.558,6.782,6.851,6.692,6.740,6.825,6.848,6.780,6.774,6.742,6.710,6.817,7.038,6.911,6.852,6.933,6.947,6.872,6.960,6.826,6.964,6.975,6.998,6.982,7.040,6.763,7.183,7.000,7.009,7.063,7.096,6.759,6.835,7.032,7.075,6.941,7.107,7.103,7.275,7.085,7.016,6.935,6.853,6.580,6.569,6.493,6.439,6.379,6.733,6.532,6.512,6.422,6.454,6.453,6.646,6.660,6.589,6.485,6.569,6.573,6.709,6.476,6.533,6.506,6.574,6.522,6.622,6.377,6.662,6.712,6.807,6.707,6.799,6.509,6.614,6.757,6.687,6.689,6.833,6.711,6.741,6.604,6.711,6.613,6.651,6.609,6.661,6.433,6.555,6.588,6.755,6.521,6.634,6.491,6.551,6.530,6.573,6.481,6.506,6.415,6.506,6.571,6.586,6.561,6.560,6.471,6.606,6.655,6.682,6.605,6.703,6.737,6.843,6.806,6.912,6.636,6.625,6.698,6.808,6.736,6.433,6.338,6.207,5.979,5.824,5.694,5.856,5.677,5.828,5.969,6.136,6.147,6.277,6.334,6.356,5.951,6.147,6.162,6.097,5.945,6.125,5.974,6.024,6.035,6.190,5.869,5.959,5.983,5.928,5.836,5.788,5.616,5.706,5.737,5.947,5.874,6.067,5.720,5.858,5.860,6.057,6.062,6.304,5.942,5.962,5.878,5.747,5.775,5.911,5.608,5.746,5.893,5.861,5.693,5.890,5.654,5.668,5.815,6.081,5.975,5.919,5.796,5.638,5.610,5.714,5.660,5.666,5.555,5.575,5.637,5.770,5.955,0.000,0.000\n",
      "0.000,0.000,0.000,0.000,0.000,0.000,0.000,0.000,0.000,0.000,0.000,0.000,0.000,0.000,0.000,0.000,0.000,0.000,0.000,0.000,0.000,0.000,0.000,0.000,6.229,6.120,6.050,6.152,6.155,6.037,6.008,6.123,6.064,6.186,6.086,6.160,6.124,6.225,6.079,6.124,5.835,5.895,5.906,6.050,5.987,6.118,5.889,5.584,5.201,4.899,4.533,4.310,4.199,4.156,4.144,4.246,4.375,4.582,4.860,5.275,5.824,6.446,6.841,7.219,7.590,7.904,8.130,8.314,8.529,8.716,8.800,8.780,8.712,8.663,8.661,8.681,8.696,8.729,8.775,8.827,8.883,8.940,8.986,8.995,8.914,8.595,7.790,7.400,6.984,6.630,6.704,6.890,7.067,7.122,7.156,7.103,7.131,7.162,7.176,7.190,7.142,7.057,7.014,6.884,6.605,6.409,6.202,6.038,5.937,5.893,5.564,5.798,5.815,5.824,5.886,5.977,6.010,6.069,6.017,6.045,5.948,5.948,5.933,6.006,5.961,5.902,5.866,5.910,5.910,6.016,5.962,5.902,5.856,5.866,5.779,5.686,5.657,6.637,7.288,6.207,6.134,6.066,5.629,4.995,4.744,4.927,5.121,5.376,5.609,5.349,5.126,5.156,5.505,5.629,5.591,5.367,5.349,5.374,5.544,5.646,5.540,5.430,5.530,5.585,5.574,5.532,5.560,5.542,5.492,5.412,5.378,5.335,5.326,5.387,5.382,5.477,5.456,5.393,5.377,5.366,5.307,5.195,5.154,6.171,6.533,6.760,7.030,7.172,6.982,6.655,6.465,6.388,6.377,6.557,6.778,6.843,6.691,6.745,6.825,6.853,6.797,6.790,6.752,6.721,6.839,7.054,6.921,6.880,6.961,6.961,6.872,6.960,6.834,6.989,7.003,7.022,6.989,7.044,6.770,7.213,7.024,7.037,7.062,7.098,6.758,6.855,7.047,7.104,6.950,7.121,7.104,7.298,7.106,7.041,6.934,6.851,6.572,6.567,6.488,6.439,6.377,6.737,6.526,6.514,6.416,6.450,6.449,6.650,6.661,6.598,6.494,6.588,6.583,6.725,6.483,6.559,6.526,6.596,6.526,6.624,6.373,6.689,6.743,6.842,6.712,6.801,6.502,6.636,6.782,6.719,6.700,6.841,6.715,6.764,6.620,6.733,6.618,6.657,6.609,6.672,6.442,6.571,6.597,6.766,6.520,6.648,6.501,6.569,6.533,6.579,6.477,6.520,6.433,6.532,6.577,6.594,6.565,6.581,6.490,6.632,6.665,6.687,6.611,6.725,6.770,6.876,6.822,6.915,6.635,6.643,6.723,6.836,6.749,6.427,6.322,6.200,5.974,5.819,5.679,5.848,5.668,5.839,5.984,6.161,6.171,6.301,6.352,6.387,5.969,6.185,6.188,6.138,5.982,6.179,6.020,6.074,6.064,6.216,5.878,5.986,6.011,5.958,5.844,5.796,5.623,5.742,5.783,6.009,5.915,6.103,5.739,5.897,5.902,6.114,6.112,6.348,5.965,6.000,5.910,5.784,5.804,5.944,5.632,5.791,5.933,5.907,5.721,5.913,5.670,5.707,5.859,6.138,6.022,5.956,5.820,5.671,5.647,5.766,5.708,5.710,5.587,5.615,5.683,5.825,6.018,0.000,0.000\n",
      "\n"
     ]
    }
   ],
   "source": [
    "# num_x = X.to('cpu').numpy()\n",
    "origin_x = scaler.inverse_transform(X).to('cpu').numpy()\n",
    "num_y = y.to('cpu').numpy()\n",
    "num_pred = pred_real.to('cpu').numpy()\n",
    "\n",
    "i_size = origin_x.shape[2]\n",
    "o_size = num_y.shape[2]\n",
    "seq_size = origin_x.shape[0] + i_size - 1\n",
    "\n",
    "dimen_length = origin_x.shape[1]\n",
    "seqs = []\n",
    "for dimen in range(dimen_length):\n",
    "    seq_x = origin_x[0,dimen,:]\n",
    "    seq_x_mid = origin_x[1:,dimen,-1]\n",
    "    seq_x = np.append(seq_x,seq_x_mid)\n",
    "    seq_x = np.append(seq_x,num_y[-1,dimen,:])\n",
    "    pad = np.zeros([i_size ,1])\n",
    "    pad_right = np.zeros([o_size - 1,1])\n",
    "    seq_y1 =np.append(pad,num_pred[:,dimen,0])\n",
    "    seq_y1 =np.append(seq_y1,pad_right)\n",
    "    # seq_y1 = np.hstack()\n",
    "    seq_y2 =np.append(pad,num_pred[:,dimen,1])\n",
    "    seq_y2 =np.append(seq_y2,pad_right)\n",
    "    seq_y3 =np.append(pad,num_pred[:,dimen,2])\n",
    "    seq_y3 =np.append(seq_y3,pad_right)\n",
    "\n",
    "    print(seq_x.shape)\n",
    "    print(seq_y1.shape)\n",
    "    print(seq_y2.shape)\n",
    "    print(seq_y3.shape)\n",
    "\n",
    "    seq = [seq_x.tolist(),seq_y1.tolist(),seq_y2.tolist(),seq_y3.tolist()]\n",
    "    seqs.append(seq)\n",
    "\n",
    "\n",
    "\n",
    "csv_str = \"\"\n",
    "for seq in seqs:\n",
    "    seqx = [str(i) for i in range(len(seq[0]))]\n",
    "    line_str = \",\".join(seqx)\n",
    "    csv_str += line_str\n",
    "    csv_str += '\\n'\n",
    "    for one in seq:\n",
    "        # float 转str\n",
    "        for i in range(len(one)):\n",
    "            one[i] = \"{:.3f}\".format(one[i])\n",
    "        line_str = \",\".join(one)\n",
    "        csv_str += line_str\n",
    "        csv_str += '\\n'\n",
    "# seqx = range(len(seqs[0][0]))\n",
    "# print(seqx)\n",
    "with open('temp.csv','w') as f:\n",
    "    f.write(csv_str)\n",
    "\n",
    "\n",
    "print(csv_str)"
   ],
   "metadata": {
    "collapsed": false,
    "pycharm": {
     "name": "#%%\n"
    }
   }
  },
  {
   "cell_type": "code",
   "execution_count": 21,
   "outputs": [
    {
     "name": "stdout",
     "output_type": "stream",
     "text": [
      "range(0, 387)\n",
      "['6.080', '5.940', '6.010', '6.130', '6.180', '6.210', '6.190', '6.070', '6.090', '6.180', '6.230', '6.280', '6.250', '6.220', '6.200', '6.210', '6.250', '6.230', '6.230', '6.020', '6.330', '6.280', '6.310', '6.210', '6.120', '5.890', '6.210', '6.240', '6.070', '6.070', '6.120', '5.940', '6.200', '6.100', '6.220', '6.170', '6.170', '5.830', '5.990', '5.720', '6.060', '6.100', '6.110', '5.880', '5.970', '5.630', '5.257', '4.946', '4.695', '4.505', '4.376', '4.307', '4.300', '4.353', '4.467', '4.642', '4.878', '5.175', '5.532', '5.951', '6.430', '6.970', '7.571', '8.232', '8.955', '9.719', '10.415', '11.022', '11.541', '11.973', '12.316', '12.571', '12.738', '12.818', '12.809', '12.712', '12.527', '12.254', '11.893', '11.445', '10.908', '10.283', '9.570', '8.769', '7.880', '7.030', '6.830', '6.570', '6.490', '6.540', '6.430', '6.440', '6.310', '6.220', '5.890', '5.910', '5.960', '5.910', '5.940', '5.900', '5.890', '6.010', '6.090', '5.940', '5.960', '5.910', '5.940', '5.950', '5.940', '5.430', '5.960', '5.900', '5.870', '5.940', '5.950', '5.930', '6.030', '5.860', '5.930', '5.930', '5.910', '5.880', '5.920', '5.910', '5.830', '5.830', '5.830', '5.920', '6.040', '5.890', '5.740', '5.690', '5.730', '5.770', '5.680', '5.650', '7.090', '7.580', '5.350', '5.250', '5.340', '5.290', '5.150', '5.180', '5.310', '5.300', '5.280', '5.240', '5.210', '5.400', '5.320', '5.400', '5.320', '5.340', '5.330', '5.400', '5.420', '5.460', '5.420', '5.400', '5.380', '5.350', '5.530', '5.520', '5.400', '5.350', '5.290', '5.270', '5.290', '5.310', '5.210', '5.170', '5.260', '5.200', '5.480', '5.380', '5.150', '5.060', '5.080', '5.130', '5.150', '5.130', '6.870', '6.900', '6.750', '6.930', '7.100', '7.040', '6.770', '6.640', '6.710', '6.840', '7.020', '7.120', '6.870', '6.750', '6.920', '6.880', '6.850', '6.850', '6.710', '6.660', '6.640', '6.820', '7.090', '7.010', '6.860', '6.780', '6.770', '6.880', '7.160', '6.920', '7.010', '6.880', '6.850', '6.890', '7.120', '6.800', '7.360', '6.890', '6.830', '6.960', '7.140', '6.810', '6.920', '7.050', '7.040', '6.930', '7.090', '7.130', '7.310', '7.090', '6.840', '6.810', '6.790', '6.730', '6.660', '6.550', '6.470', '6.520', '6.920', '6.630', '6.580', '6.440', '6.470', '6.540', '6.820', '6.790', '6.620', '6.380', '6.440', '6.520', '6.890', '6.650', '6.610', '6.370', '6.410', '6.490', '6.790', '6.530', '6.880', '6.680', '6.590', '6.530', '6.830', '6.590', '6.790', '6.820', '6.480', '6.600', '6.880', '6.810', '6.790', '6.540', '6.600', '6.570', '6.680', '6.760', '6.740', '6.370', '6.520', '6.560', '6.810', '6.650', '6.770', '6.380', '6.420', '6.500', '6.650', '6.660', '6.680', '6.340', '6.320', '6.540', '6.690', '6.800', '6.640', '6.360', '6.430', '6.610', '6.770', '6.820', '6.800', '6.700', '6.660', '6.620', '6.940', '6.730', '6.740', '6.700', '6.690', '6.600', '6.300', '6.390', '6.260', '5.910', '5.710', '5.630', '6.200', '5.930', '6.060', '5.950', '6.020', '6.040', '6.280', '6.320', '6.370', '5.670', '5.970', '6.090', '6.190', '6.170', '6.310', '5.790', '5.810', '5.940', '6.300', '6.030', '6.140', '5.850', '5.460', '5.650', '5.840', '5.880', '6.040', '5.780', '5.670', '5.560', '6.140', '5.800', '6.050', '5.870', '5.920', '5.840', '6.340', '5.860', '6.020', '5.780', '5.360', '5.710', '6.130', '5.720', '5.950', '5.900', '5.460', '5.380', '5.980', '5.780', '5.920', '5.910', '5.870', '5.680', '5.740', '5.790', '5.650', '5.720', '5.730', '5.520', '5.530', '5.590', '5.667', '5.764', '5.880', '6.014', '6.147', '6.258', '6.345']\n"
     ]
    },
    {
     "data": {
      "text/plain": "<Figure size 432x288 with 1 Axes>",
      "image/png": "[encoded data removed]"
     },
     "metadata": {
      "needs_background": "light"
     },
     "output_type": "display_data"
    }
   ],
   "source": [
    "# import matplotlib.pyplot as plt\n",
    "# for seq in seqs:\n",
    "#     # for one in seq:\n",
    "#     x = range(len(seq[0]))\n",
    "#     y = seq[0]\n",
    "#     plt.plot(x,y)\n",
    "#     plt.ylim((0,17))\n",
    "# print(x)\n",
    "# print(y)\n",
    "# plt.show()"
   ],
   "metadata": {
    "collapsed": false,
    "pycharm": {
     "name": "#%%\n"
    }
   }
  }
 ],
 "metadata": {
  "kernelspec": {
   "display_name": "Python 3",
   "language": "python",
   "name": "python3"
  },
  "language_info": {
   "codemirror_mode": {
    "name": "ipython",
    "version": 2
   },
   "file_extension": ".py",
   "mimetype": "text/x-python",
   "name": "python",
   "nbconvert_exporter": "python",
   "pygments_lexer": "ipython2",
   "version": "2.7.6"
  }
 },
 "nbformat": 4,
 "nbformat_minor": 0
}