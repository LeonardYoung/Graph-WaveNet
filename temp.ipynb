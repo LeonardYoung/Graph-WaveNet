{
 "cells": [
  {
   "cell_type": "code",
   "execution_count": 16,
   "metadata": {
    "collapsed": true
   },
   "outputs": [
    {
     "name": "stdout",
     "output_type": "stream",
     "text": [
      "tensor([[0.0000, 0.9999, 0.8874],\n",
      "        [0.0000, 0.0000, 0.0000],\n",
      "        [0.0000, 0.9906, 0.0000]])\n",
      "tensor([[0.1627, 0.4422, 0.3951],\n",
      "        [0.3333, 0.3333, 0.3333],\n",
      "        [0.2131, 0.5738, 0.2131]])\n",
      "tensor([[0.3333, 0.4240, 0.5484],\n",
      "        [0.3333, 0.1560, 0.2258],\n",
      "        [0.3333, 0.4201, 0.2258]])\n"
     ]
    }
   ],
   "source": [
    "import torch\n",
    "import torch.nn.functional as F\n",
    "e1 = torch.randn([3,3])\n",
    "e2 = torch.randn([3,3])\n",
    "# print(e1)\n",
    "# print(e2)\n",
    "m1 = e1\n",
    "m2 = e2\n",
    "# m1 = torch.tanh(e1)\n",
    "# m2 = torch.tanh(e2)\n",
    "# mid = torch.mm(m1, m2.t()) - torch.mm(m2, m1.t())\n",
    "# print(mid)\n",
    "# mid2 = torch.mm(m1, m2.t()).sub(torch.mm(m2, m1.t()))\n",
    "# print(mid2)\n",
    "\n",
    "mid3 = F.relu(torch.tanh(torch.mm(m1, m2.t()) - torch.mm(m2, m1.t())))\n",
    "print(mid3)\n",
    "adp = F.softmax(mid3, dim=1)\n",
    "print(adp)\n",
    "adp = F.softmax(mid3, dim=0)\n",
    "print(adp)"
   ]
  },
  {
   "cell_type": "code",
   "execution_count": 1,
   "outputs": [
    {
     "name": "stdout",
     "output_type": "stream",
     "text": [
      "Index(['监测时间', '站点名称', 'pH值', '总氮', '总磷', '氨氮', '水温', '浑浊度', '溶解氧', '电导率',\n",
      "       '高锰酸盐指数'],\n",
      "      dtype='object')\n"
     ]
    }
   ],
   "source": [
    "import pandas as pd\n",
    "df = pd.read_csv('data/water/water2020.csv',\n",
    "                 usecols=[1, 2, 3, 4, 5, 6, 7, 8, 9, 10, 11])\n",
    "print(df.columns)"
   ],
   "metadata": {
    "collapsed": false,
    "pycharm": {
     "name": "#%%\n"
    }
   }
  }
 ],
 "metadata": {
  "kernelspec": {
   "display_name": "Python 3",
   "language": "python",
   "name": "python3"
  },
  "language_info": {
   "codemirror_mode": {
    "name": "ipython",
    "version": 2
   },
   "file_extension": ".py",
   "mimetype": "text/x-python",
   "name": "python",
   "nbconvert_exporter": "python",
   "pygments_lexer": "ipython2",
   "version": "2.7.6"
  }
 },
 "nbformat": 4,
 "nbformat_minor": 0
}