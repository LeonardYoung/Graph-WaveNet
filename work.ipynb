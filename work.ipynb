{
 "cells": [
  {
   "cell_type": "markdown",
   "source": [
    "# automl\n",
    "~~使用autogluon训练数据~~"
   ],
   "metadata": {
    "collapsed": false,
    "pycharm": {
     "name": "#%% md\n"
    }
   }
  },
  {
   "cell_type": "code",
   "execution_count": 1,
   "outputs": [
    {
     "data": {
      "text/plain": "                     天宝大水港排涝站0  中排渠涝站（天宝）0  甘棠溪慧民花园监测点0  康山溪金峰花园监测点0  芗城水利局站0  \\\ntime                                                                            \n2020-01-01 00:00:00      8.255       6.285        7.092        6.453    8.165   \n2020-01-01 04:00:00      8.132       6.300        7.090        6.448    8.200   \n2020-01-01 08:00:00      8.183       6.368        7.115        6.465    8.205   \n2020-01-01 12:00:00      8.348       6.395        7.113        6.470    8.222   \n2020-01-01 16:00:00      8.418       6.300        7.065        6.498    8.162   \n\n                     中山桥水闸站0  北京路水闸站0  九湖监测点0  桂林排涝站0    上坂0  \ntime                                                          \n2020-01-01 00:00:00    6.641    6.240   6.790   8.288  6.859  \n2020-01-01 04:00:00    6.640    6.258   6.805   8.375  6.805  \n2020-01-01 08:00:00    6.640    6.180   6.785   8.327  6.758  \n2020-01-01 12:00:00    6.639    6.185   6.850   8.242  6.766  \n2020-01-01 16:00:00    6.638    6.098   6.915   8.222  6.754  ",
      "text/html": "<div>\n<style scoped>\n    .dataframe tbody tr th:only-of-type {\n        vertical-align: middle;\n    }\n\n    .dataframe tbody tr th {\n        vertical-align: top;\n    }\n\n    .dataframe thead th {\n        text-align: right;\n    }\n</style>\n<table border=\"1\" class=\"dataframe\">\n  <thead>\n    <tr style=\"text-align: right;\">\n      <th></th>\n      <th>天宝大水港排涝站0</th>\n      <th>中排渠涝站（天宝）0</th>\n      <th>甘棠溪慧民花园监测点0</th>\n      <th>康山溪金峰花园监测点0</th>\n      <th>芗城水利局站0</th>\n      <th>中山桥水闸站0</th>\n      <th>北京路水闸站0</th>\n      <th>九湖监测点0</th>\n      <th>桂林排涝站0</th>\n      <th>上坂0</th>\n    </tr>\n    <tr>\n      <th>time</th>\n      <th></th>\n      <th></th>\n      <th></th>\n      <th></th>\n      <th></th>\n      <th></th>\n      <th></th>\n      <th></th>\n      <th></th>\n      <th></th>\n    </tr>\n  </thead>\n  <tbody>\n    <tr>\n      <th>2020-01-01 00:00:00</th>\n      <td>8.255</td>\n      <td>6.285</td>\n      <td>7.092</td>\n      <td>6.453</td>\n      <td>8.165</td>\n      <td>6.641</td>\n      <td>6.240</td>\n      <td>6.790</td>\n      <td>8.288</td>\n      <td>6.859</td>\n    </tr>\n    <tr>\n      <th>2020-01-01 04:00:00</th>\n      <td>8.132</td>\n      <td>6.300</td>\n      <td>7.090</td>\n      <td>6.448</td>\n      <td>8.200</td>\n      <td>6.640</td>\n      <td>6.258</td>\n      <td>6.805</td>\n      <td>8.375</td>\n      <td>6.805</td>\n    </tr>\n    <tr>\n      <th>2020-01-01 08:00:00</th>\n      <td>8.183</td>\n      <td>6.368</td>\n      <td>7.115</td>\n      <td>6.465</td>\n      <td>8.205</td>\n      <td>6.640</td>\n      <td>6.180</td>\n      <td>6.785</td>\n      <td>8.327</td>\n      <td>6.758</td>\n    </tr>\n    <tr>\n      <th>2020-01-01 12:00:00</th>\n      <td>8.348</td>\n      <td>6.395</td>\n      <td>7.113</td>\n      <td>6.470</td>\n      <td>8.222</td>\n      <td>6.639</td>\n      <td>6.185</td>\n      <td>6.850</td>\n      <td>8.242</td>\n      <td>6.766</td>\n    </tr>\n    <tr>\n      <th>2020-01-01 16:00:00</th>\n      <td>8.418</td>\n      <td>6.300</td>\n      <td>7.065</td>\n      <td>6.498</td>\n      <td>8.162</td>\n      <td>6.638</td>\n      <td>6.098</td>\n      <td>6.915</td>\n      <td>8.222</td>\n      <td>6.754</td>\n    </tr>\n  </tbody>\n</table>\n</div>"
     },
     "execution_count": 1,
     "metadata": {},
     "output_type": "execute_result"
    }
   ],
   "source": [
    "import pandas\n",
    "df = pandas.read_hdf('data/water/shangban/singleFac/merge0.h5')\n",
    "df.head(5)\n",
    "\n",
    "\n"
   ],
   "metadata": {
    "collapsed": false,
    "pycharm": {
     "name": "#%% dataset\n"
    }
   }
  },
  {
   "cell_type": "code",
   "execution_count": 22,
   "outputs": [
    {
     "name": "stdout",
     "output_type": "stream",
     "text": [
      "(10, 1)\n",
      "9.0\n"
     ]
    }
   ],
   "source": [
    "import numpy as np\n",
    "\n",
    "# We define two sequences x, y as numpy array\n",
    "# where y is actually a sub-sequence from x\n",
    "x = np.array([2, 0, 1, 1, 2, 4, 2, 1, 2, 0]).reshape(10, 1)\n",
    "y = np.array([1, 1, 2, 4, 2, 1, 2, 0, 3, 4]).reshape(10, 1)\n",
    "print(x.shape)\n",
    "from dtw import dtw\n",
    "\n",
    "manhattan_distance = lambda x, y: np.abs(x - y)\n",
    "\n",
    "d, _, _, _ = dtw(x, y, dist=manhattan_distance)\n",
    "\n",
    "print(d)"
   ],
   "metadata": {
    "collapsed": false,
    "pycharm": {
     "name": "#%%\n"
    }
   }
  },
  {
   "cell_type": "code",
   "execution_count": 41,
   "outputs": [
    {
     "name": "stdout",
     "output_type": "stream",
     "text": [
      "(64, 2, 10, 24)\n",
      "(64, 1, 10, 24)\n",
      "[[[[0. 0. 0. ... 0. 0. 0.]\n",
      "   [0. 0. 0. ... 0. 0. 0.]\n",
      "   [0. 0. 0. ... 0. 0. 0.]\n",
      "   ...\n",
      "   [0. 0. 0. ... 0. 0. 0.]\n",
      "   [0. 0. 0. ... 0. 0. 0.]\n",
      "   [0. 0. 0. ... 0. 0. 0.]]]\n",
      "\n",
      "\n",
      " [[[0. 0. 0. ... 0. 0. 0.]\n",
      "   [0. 0. 0. ... 0. 0. 0.]\n",
      "   [0. 0. 0. ... 0. 0. 0.]\n",
      "   ...\n",
      "   [0. 0. 0. ... 0. 0. 0.]\n",
      "   [0. 0. 0. ... 0. 0. 0.]\n",
      "   [0. 0. 0. ... 0. 0. 0.]]]\n",
      "\n",
      "\n",
      " [[[0. 0. 0. ... 0. 0. 0.]\n",
      "   [0. 0. 0. ... 0. 0. 0.]\n",
      "   [0. 0. 0. ... 0. 0. 0.]\n",
      "   ...\n",
      "   [0. 0. 0. ... 0. 0. 0.]\n",
      "   [0. 0. 0. ... 0. 0. 0.]\n",
      "   [0. 0. 0. ... 0. 0. 0.]]]\n",
      "\n",
      "\n",
      " ...\n",
      "\n",
      "\n",
      " [[[0. 0. 0. ... 0. 0. 0.]\n",
      "   [0. 0. 0. ... 0. 0. 0.]\n",
      "   [0. 0. 0. ... 0. 0. 0.]\n",
      "   ...\n",
      "   [0. 0. 0. ... 0. 0. 0.]\n",
      "   [0. 0. 0. ... 0. 0. 0.]\n",
      "   [0. 0. 0. ... 0. 0. 0.]]]\n",
      "\n",
      "\n",
      " [[[0. 0. 0. ... 0. 0. 0.]\n",
      "   [0. 0. 0. ... 0. 0. 0.]\n",
      "   [0. 0. 0. ... 0. 0. 0.]\n",
      "   ...\n",
      "   [0. 0. 0. ... 0. 0. 0.]\n",
      "   [0. 0. 0. ... 0. 0. 0.]\n",
      "   [0. 0. 0. ... 0. 0. 0.]]]\n",
      "\n",
      "\n",
      " [[[0. 0. 0. ... 0. 0. 0.]\n",
      "   [0. 0. 0. ... 0. 0. 0.]\n",
      "   [0. 0. 0. ... 0. 0. 0.]\n",
      "   ...\n",
      "   [0. 0. 0. ... 0. 0. 0.]\n",
      "   [0. 0. 0. ... 0. 0. 0.]\n",
      "   [0. 0. 0. ... 0. 0. 0.]]]]\n",
      "done\n"
     ]
    }
   ],
   "source": [
    "from dtw import dtw\n",
    "manhattan_distance = lambda x, y: np.abs(x - y)\n",
    "\n",
    "x = np.ones([64,2,10,24])\n",
    "# yy = np.ones([64,2,10,24])\n",
    "print(x.shape)\n",
    "\n",
    "x = x[:,0:-1,:,:]\n",
    "print(x.shape)\n",
    "\n",
    "dist = np.zeros([x.shape[0],x.shape[1],x.shape[2],x.shape[2]])\n",
    "for a in range(x.shape[0]):\n",
    "    for b in range(x.shape[1]):\n",
    "        for c in range(x.shape[2]):\n",
    "            for d in range(x.shape[2]):\n",
    "                seq_x = x[a,b,c,:]\n",
    "                seq_y = x[a,b,d,:]\n",
    "                r = dtw(seq_x, seq_y, dist=manhattan_distance)\n",
    "                dist[a,b,c,d] = r[0]\n",
    "print(dist)\n",
    "\n",
    "print('done')"
   ],
   "metadata": {
    "collapsed": false,
    "pycharm": {
     "name": "#%%\n"
    }
   }
  },
  {
   "cell_type": "code",
   "execution_count": 4,
   "outputs": [
    {
     "name": "stdout",
     "output_type": "stream",
     "text": [
      "torch.Size([2, 3, 4])\n",
      "torch.Size([3, 4])\n"
     ]
    }
   ],
   "source": [
    "import torch\n",
    "\n",
    "x = torch.ones([2,3,4])\n",
    "print(x.shape)\n",
    "\n",
    "y = x[0] \n",
    "print(y.shape)\n",
    "\n",
    "\n"
   ],
   "metadata": {
    "collapsed": false,
    "pycharm": {
     "name": "#%% test\n"
    }
   }
  }
 ],
 "metadata": {
  "kernelspec": {
   "display_name": "Python 3",
   "language": "python",
   "name": "python3"
  },
  "language_info": {
   "codemirror_mode": {
    "name": "ipython",
    "version": 2
   },
   "file_extension": ".py",
   "mimetype": "text/x-python",
   "name": "python",
   "nbconvert_exporter": "python",
   "pygments_lexer": "ipython2",
   "version": "2.7.6"
  }
 },
 "nbformat": 4,
 "nbformat_minor": 0
}